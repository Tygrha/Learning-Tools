{
 "cells": [
  {
   "cell_type": "code",
   "execution_count": 1,
   "id": "29300311",
   "metadata": {},
   "outputs": [],
   "source": [
    "import pandas as pd"
   ]
  },
  {
   "cell_type": "code",
   "execution_count": 2,
   "id": "18bb790f",
   "metadata": {},
   "outputs": [],
   "source": [
    "from bokeh.models import HoverTool"
   ]
  },
  {
   "cell_type": "code",
   "execution_count": 3,
   "id": "b9995d4d",
   "metadata": {},
   "outputs": [],
   "source": [
    "from bokeh.plotting import figure\n",
    "from bokeh.io import output_file, show, save\n",
    "from bokeh.models import ColumnDataSource"
   ]
  },
  {
   "cell_type": "code",
   "execution_count": 4,
   "id": "1ae3be64",
   "metadata": {},
   "outputs": [],
   "source": [
    "df = pd.read_csv('s3://covidstatedata/final_dataset.csv')"
   ]
  },
  {
   "cell_type": "code",
   "execution_count": 5,
   "id": "ec30ab85",
   "metadata": {},
   "outputs": [],
   "source": [
    "dem=df[df['Dem0_Rep1']==0]\n",
    "rep=df[df['Dem0_Rep1']==1]"
   ]
  },
  {
   "cell_type": "code",
   "execution_count": 6,
   "id": "43ca4d93",
   "metadata": {},
   "outputs": [],
   "source": [
    "#source = ColumnDataSource(df)"
   ]
  },
  {
   "cell_type": "code",
   "execution_count": 7,
   "id": "0a60169f",
   "metadata": {},
   "outputs": [],
   "source": [
    "p = figure(x_axis_label='Percent Joe', y_axis_label='Vaccinated Population')\n",
    "p2 = figure(x_axis_label='Percent Joe', y_axis_label='Vaccinated Population')\n",
    "p3 = figure(x_axis_label='Percent Joe', y_axis_label='Vaccinated Population')\n",
    "\n",
    "p4 = figure(x_axis_label='Percent Joe', y_axis_label='Vaccinated Population', tools='box_select, lasso_select')\n",
    "p5 = figure(x_axis_label='Percent Joe', y_axis_label='Vaccinated Population', tools='box_select, lasso_select')\n",
    "p6 = figure(x_axis_label='Percent Joe', y_axis_label='Vaccinated Population', tools='box_select, lasso_select')"
   ]
  },
  {
   "cell_type": "code",
   "execution_count": 8,
   "id": "f05b4350",
   "metadata": {},
   "outputs": [],
   "source": [
    "hover = HoverTool(tooltips=[('county', '@county'),\n",
    "                            ('state', '@state'),\n",
    "                            ('12+ Vaccinated', '@Series_Complete_12PlusPop_Pct'), \n",
    "                            ('18+ Vaccinated', '@Series_Complete_18PlusPop_Pct'),\n",
    "                            ('65+ Vaccinated', '@Series_Complete_65PlusPop_Pct')])\n"
   ]
  },
  {
   "cell_type": "code",
   "execution_count": 9,
   "id": "84904129",
   "metadata": {},
   "outputs": [],
   "source": [
    "source_dem = ColumnDataSource(dem)\n",
    "source_rep = ColumnDataSource(rep)"
   ]
  },
  {
   "cell_type": "code",
   "execution_count": 10,
   "id": "37c777cf",
   "metadata": {},
   "outputs": [],
   "source": [
    "p.circle('% Joe', 'Series_Complete_12PlusPop_Pct', source=source_dem, color='blue')\n",
    "p.circle('% Joe', 'Series_Complete_12PlusPop_Pct', source=source_rep, color='red')\n",
    "\n",
    "p.add_tools(hover)"
   ]
  },
  {
   "cell_type": "code",
   "execution_count": 11,
   "id": "9473a9d9",
   "metadata": {},
   "outputs": [],
   "source": [
    "p2.circle('% Joe', 'Series_Complete_18PlusPop_Pct', source=source_dem, color='blue')\n",
    "p2.circle('% Joe', 'Series_Complete_18PlusPop_Pct', source=source_rep, color='red')\n",
    "\n",
    "p2.add_tools(hover)"
   ]
  },
  {
   "cell_type": "code",
   "execution_count": 12,
   "id": "a47b1472",
   "metadata": {},
   "outputs": [],
   "source": [
    "p3.circle('% Joe', 'Series_Complete_65PlusPop_Pct', source=source_dem, color='blue')\n",
    "p3.circle('% Joe', 'Series_Complete_65PlusPop_Pct', source=source_rep, color='red')\n",
    "\n",
    "p3.add_tools(hover)"
   ]
  },
  {
   "cell_type": "code",
   "execution_count": 13,
   "id": "7e9799ec",
   "metadata": {},
   "outputs": [],
   "source": [
    "p4.circle('% Joe', 'Series_Complete_12PlusPop_Pct', source=source_dem, color='blue')\n",
    "p4.circle('% Joe', 'Series_Complete_12PlusPop_Pct', source=source_rep, color='red')\n",
    "\n",
    "p5.circle('% Joe', 'Series_Complete_18PlusPop_Pct', source=source_dem, color='blue')\n",
    "p5.circle('% Joe', 'Series_Complete_18PlusPop_Pct', source=source_rep, color='red')\n",
    "\n",
    "\n",
    "p6.circle('% Joe', 'Series_Complete_65PlusPop_Pct', source=source_dem, color='blue')\n",
    "p6.circle('% Joe', 'Series_Complete_65PlusPop_Pct', source=source_rep, color='red')\n",
    "\n",
    "p4.add_tools(hover)\n",
    "p5.add_tools(hover)\n",
    "p6.add_tools(hover)\n",
    "\n",
    "p4.x_range = p5.x_range\n",
    "p4.x_range = p6.x_range"
   ]
  },
  {
   "cell_type": "code",
   "execution_count": 14,
   "id": "12c49ecc",
   "metadata": {},
   "outputs": [],
   "source": [
    "from bokeh.layouts import row\n",
    "layout_tab4 = row(p4,p5,p6)"
   ]
  },
  {
   "cell_type": "code",
   "execution_count": 15,
   "id": "f07a04d3",
   "metadata": {},
   "outputs": [],
   "source": [
    "from bokeh.models.widgets import Panel\n",
    "\n",
    "tab1 = Panel(child=p, title='Percent Joe by 12+ Vaccinated')\n",
    "\n",
    "tab2 = Panel(child=p2, title='Percent Joe by 18+ Vaccinated')\n",
    "\n",
    "tab3 = Panel(child=p3, title='Percent Joe by 65+ Vaccinated')\n",
    "\n",
    "tab4 = Panel(child=layout_tab4, title='Compare')\n"
   ]
  },
  {
   "cell_type": "code",
   "execution_count": null,
   "id": "9a5d4089",
   "metadata": {},
   "outputs": [],
   "source": []
  },
  {
   "cell_type": "code",
   "execution_count": 16,
   "id": "7708f4ef",
   "metadata": {},
   "outputs": [],
   "source": [
    "from bokeh.models.widgets import Tabs\n",
    "\n",
    "layout = Tabs(tabs=[tab1, tab2, tab3, tab4])\n",
    "\n",
    "#output_file('tabs.html')\n",
    "show(layout)"
   ]
  },
  {
   "cell_type": "code",
   "execution_count": null,
   "id": "72640411",
   "metadata": {},
   "outputs": [],
   "source": []
  },
  {
   "cell_type": "code",
   "execution_count": null,
   "id": "31a1b6e2",
   "metadata": {},
   "outputs": [],
   "source": [
    "output_file('counties.html')\n",
    "save(layout)"
   ]
  }
 ],
 "metadata": {
  "kernelspec": {
   "display_name": "Python 3",
   "language": "python",
   "name": "python3"
  },
  "language_info": {
   "codemirror_mode": {
    "name": "ipython",
    "version": 3
   },
   "file_extension": ".py",
   "mimetype": "text/x-python",
   "name": "python",
   "nbconvert_exporter": "python",
   "pygments_lexer": "ipython3",
   "version": "3.8.2"
  }
 },
 "nbformat": 4,
 "nbformat_minor": 5
}
